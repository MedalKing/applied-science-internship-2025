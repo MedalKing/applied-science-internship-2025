{
 "cells": [
  {
   "cell_type": "raw",
   "metadata": {},
   "source": [
    "---\n",
    "title: \"Untitled\"\n",
    "format: html\n",
    "---"
   ]
  },
  {
   "cell_type": "code",
   "execution_count": 2,
   "metadata": {},
   "outputs": [
    {
     "name": "stdout",
     "output_type": "stream",
     "text": [
      "<class 'pandas.core.frame.DataFrame'>\n",
      "RangeIndex: 761 entries, 0 to 760\n",
      "Data columns (total 5 columns):\n",
      " #   Column                   Non-Null Count  Dtype  \n",
      "---  ------                   --------------  -----  \n",
      " 0   date                     761 non-null    object \n",
      " 1   courier_partners_online  761 non-null    int64  \n",
      " 2   temperature              731 non-null    float64\n",
      " 3   relative_humidity        761 non-null    float64\n",
      " 4   precipitation            756 non-null    float64\n",
      "dtypes: float64(3), int64(1), object(1)\n",
      "memory usage: 29.9+ KB\n",
      "None\n",
      "       courier_partners_online  temperature  relative_humidity  precipitation\n",
      "count               761.000000   731.000000         761.000000     756.000000\n",
      "mean                 72.417871    17.532585           0.653193       0.914735\n",
      "std                  96.039679    10.007564           0.171553       1.749988\n",
      "min                  34.000000    -9.980000           0.430000       0.000000\n",
      "25%                  58.000000    10.930000           0.520000       0.000000\n",
      "50%                  66.000000    18.630000           0.590000       0.000000\n",
      "75%                  72.000000    24.410000           0.790000       0.910000\n",
      "max                1506.000000    37.950000           1.000000      12.900000\n",
      "         date  courier_partners_online  temperature  relative_humidity  \\\n",
      "0  2021-05-01                       49        18.27               0.57   \n",
      "1  2021-05-02                      927        19.88               0.55   \n",
      "2  2021-05-03                       40        16.88               0.60   \n",
      "3  2021-05-04                       51        21.88               0.53   \n",
      "4  2021-05-05                       50        21.11               0.54   \n",
      "\n",
      "   precipitation  \n",
      "0            0.0  \n",
      "1            0.0  \n",
      "2            0.0  \n",
      "3            0.0  \n",
      "4            0.0  \n"
     ]
    }
   ],
   "source": [
    "import pandas as pd\n",
    "import numpy as np\n",
    "from sklearn.model_selection import train_test_split\n",
    "from sklearn.preprocessing import StandardScaler\n",
    "from sklearn.impute import SimpleImputer\n",
    "from sklearn.preprocessing import LabelEncoder\n",
    "import matplotlib.pyplot as plt\n",
    "import seaborn as sns\n",
    "\n",
    "# Load the CSV file\n",
    "file_path = \"daily_cp_activity_dataset.csv\"  # Update with the correct file path\n",
    "data = pd.read_csv(file_path)\n",
    "\n",
    "# Display basic information about the dataset\n",
    "print(data.info())\n",
    "print(data.describe())\n",
    "print(data.head())"
   ]
  },
  {
   "cell_type": "code",
   "execution_count": null,
   "metadata": {},
   "outputs": [],
   "source": []
  }
 ],
 "metadata": {
  "kernelspec": {
   "display_name": "wolt_assignment_env",
   "language": "python",
   "name": "python3"
  },
  "language_info": {
   "codemirror_mode": {
    "name": "ipython",
    "version": 3
   },
   "file_extension": ".py",
   "mimetype": "text/x-python",
   "name": "python",
   "nbconvert_exporter": "python",
   "pygments_lexer": "ipython3",
   "version": "3.12.8"
  }
 },
 "nbformat": 4,
 "nbformat_minor": 2
}
